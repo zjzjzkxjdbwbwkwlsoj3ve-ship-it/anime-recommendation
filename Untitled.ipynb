{
 "cells": [
  {
   "cell_type": "code",
   "execution_count": 1,
   "id": "f599bc9b-611c-4980-8fac-9b3e0a439499",
   "metadata": {},
   "outputs": [],
   "source": [
    "import pandas as pd\n",
    "import numpy as np\n",
    "import ast"
   ]
  },
  {
   "cell_type": "code",
   "execution_count": 2,
   "id": "317d6c25-3d32-4d58-92ab-70fbc1c7b3a3",
   "metadata": {},
   "outputs": [],
   "source": [
    "anime = pd.read_csv('myanilist.csv')\n",
    "poster = pd.read_csv('jikan_anime_dataset.csv')"
   ]
  },
  {
   "cell_type": "code",
   "execution_count": 3,
   "id": "05e52758-6c73-49c7-b47b-08b3ba75395b",
   "metadata": {},
   "outputs": [],
   "source": [
    "anime = anime.drop_duplicates()"
   ]
  },
  {
   "cell_type": "code",
   "execution_count": 4,
   "id": "0adad4e2-e609-446f-a315-008b015f5938",
   "metadata": {},
   "outputs": [],
   "source": [
    "anime = pd.merge(anime,poster,on='Title_English')"
   ]
  },
  {
   "cell_type": "code",
   "execution_count": 5,
   "id": "cd19666f-a195-4b2e-b14c-405b7def232b",
   "metadata": {},
   "outputs": [
    {
     "data": {
      "text/html": [
       "<div>\n",
       "<style scoped>\n",
       "    .dataframe tbody tr th:only-of-type {\n",
       "        vertical-align: middle;\n",
       "    }\n",
       "\n",
       "    .dataframe tbody tr th {\n",
       "        vertical-align: top;\n",
       "    }\n",
       "\n",
       "    .dataframe thead th {\n",
       "        text-align: right;\n",
       "    }\n",
       "</style>\n",
       "<table border=\"1\" class=\"dataframe\">\n",
       "  <thead>\n",
       "    <tr style=\"text-align: right;\">\n",
       "      <th></th>\n",
       "      <th>ID</th>\n",
       "      <th>Title_English</th>\n",
       "      <th>Genres</th>\n",
       "      <th>Season_Year</th>\n",
       "      <th>Average_Score</th>\n",
       "      <th>url</th>\n",
       "      <th>images</th>\n",
       "    </tr>\n",
       "  </thead>\n",
       "  <tbody>\n",
       "    <tr>\n",
       "      <th>0</th>\n",
       "      <td>16498</td>\n",
       "      <td>Attack on Titan</td>\n",
       "      <td>Action, Drama, Fantasy, Mystery</td>\n",
       "      <td>2013.0</td>\n",
       "      <td>84.0</td>\n",
       "      <td>https://myanimelist.net/anime/16498/Shingeki_n...</td>\n",
       "      <td>{'jpg': {'image_url': 'https://cdn.myanimelist...</td>\n",
       "    </tr>\n",
       "    <tr>\n",
       "      <th>1</th>\n",
       "      <td>101922</td>\n",
       "      <td>Demon Slayer: Kimetsu no Yaiba</td>\n",
       "      <td>Action, Adventure, Drama, Fantasy, Supernatural</td>\n",
       "      <td>2019.0</td>\n",
       "      <td>83.0</td>\n",
       "      <td>https://myanimelist.net/anime/38000/Kimetsu_no...</td>\n",
       "      <td>{'jpg': {'image_url': 'https://cdn.myanimelist...</td>\n",
       "    </tr>\n",
       "    <tr>\n",
       "      <th>2</th>\n",
       "      <td>1535</td>\n",
       "      <td>Death Note</td>\n",
       "      <td>Mystery, Psychological, Supernatural, Thriller</td>\n",
       "      <td>2006.0</td>\n",
       "      <td>84.0</td>\n",
       "      <td>https://myanimelist.net/anime/1535/Death_Note</td>\n",
       "      <td>{'jpg': {'image_url': 'https://cdn.myanimelist...</td>\n",
       "    </tr>\n",
       "    <tr>\n",
       "      <th>3</th>\n",
       "      <td>21459</td>\n",
       "      <td>My Hero Academia</td>\n",
       "      <td>Action, Adventure, Comedy</td>\n",
       "      <td>2016.0</td>\n",
       "      <td>76.0</td>\n",
       "      <td>https://myanimelist.net/anime/31964/Boku_no_He...</td>\n",
       "      <td>{'jpg': {'image_url': 'https://cdn.myanimelist...</td>\n",
       "    </tr>\n",
       "    <tr>\n",
       "      <th>4</th>\n",
       "      <td>20605</td>\n",
       "      <td>Tokyo Ghoul</td>\n",
       "      <td>Action, Drama, Horror, Mystery, Psychological,...</td>\n",
       "      <td>2014.0</td>\n",
       "      <td>75.0</td>\n",
       "      <td>https://myanimelist.net/anime/22319/Tokyo_Ghoul</td>\n",
       "      <td>{'jpg': {'image_url': 'https://cdn.myanimelist...</td>\n",
       "    </tr>\n",
       "  </tbody>\n",
       "</table>\n",
       "</div>"
      ],
      "text/plain": [
       "       ID                   Title_English  \\\n",
       "0   16498                 Attack on Titan   \n",
       "1  101922  Demon Slayer: Kimetsu no Yaiba   \n",
       "2    1535                      Death Note   \n",
       "3   21459                My Hero Academia   \n",
       "4   20605                     Tokyo Ghoul   \n",
       "\n",
       "                                              Genres  Season_Year  \\\n",
       "0                    Action, Drama, Fantasy, Mystery       2013.0   \n",
       "1    Action, Adventure, Drama, Fantasy, Supernatural       2019.0   \n",
       "2     Mystery, Psychological, Supernatural, Thriller       2006.0   \n",
       "3                          Action, Adventure, Comedy       2016.0   \n",
       "4  Action, Drama, Horror, Mystery, Psychological,...       2014.0   \n",
       "\n",
       "   Average_Score                                                url  \\\n",
       "0           84.0  https://myanimelist.net/anime/16498/Shingeki_n...   \n",
       "1           83.0  https://myanimelist.net/anime/38000/Kimetsu_no...   \n",
       "2           84.0      https://myanimelist.net/anime/1535/Death_Note   \n",
       "3           76.0  https://myanimelist.net/anime/31964/Boku_no_He...   \n",
       "4           75.0    https://myanimelist.net/anime/22319/Tokyo_Ghoul   \n",
       "\n",
       "                                              images  \n",
       "0  {'jpg': {'image_url': 'https://cdn.myanimelist...  \n",
       "1  {'jpg': {'image_url': 'https://cdn.myanimelist...  \n",
       "2  {'jpg': {'image_url': 'https://cdn.myanimelist...  \n",
       "3  {'jpg': {'image_url': 'https://cdn.myanimelist...  \n",
       "4  {'jpg': {'image_url': 'https://cdn.myanimelist...  "
      ]
     },
     "execution_count": 5,
     "metadata": {},
     "output_type": "execute_result"
    }
   ],
   "source": [
    "anime = anime[['ID','Title_English','Genres','Season_Year','Average_Score','url','images']]\n",
    "anime.head(5)"
   ]
  },
  {
   "cell_type": "code",
   "execution_count": 6,
   "id": "46f41090-5e4a-403d-8022-7d2c310ec11a",
   "metadata": {},
   "outputs": [],
   "source": [
    "anime['Genres'] = anime['Genres'].apply(lambda x: x.lower() if isinstance(x, str) else x)"
   ]
  },
  {
   "cell_type": "code",
   "execution_count": 7,
   "id": "1db021fe-7711-4314-b7bc-be5d5ec3570f",
   "metadata": {},
   "outputs": [],
   "source": [
    "anime['tags'] = anime['Genres'] + \" \" + anime['Season_Year'].astype(str) + anime['Average_Score'].astype(str)"
   ]
  },
  {
   "cell_type": "code",
   "execution_count": 8,
   "id": "282184ac-bd4f-4ad5-b2c7-00c51b5b7f5a",
   "metadata": {},
   "outputs": [],
   "source": [
    "animereco = anime[['ID','Title_English','tags']]"
   ]
  },
  {
   "cell_type": "code",
   "execution_count": 9,
   "id": "dc1aef3e-1f34-478c-8a07-451e0282edb0",
   "metadata": {},
   "outputs": [
    {
     "data": {
      "text/html": [
       "<div>\n",
       "<style scoped>\n",
       "    .dataframe tbody tr th:only-of-type {\n",
       "        vertical-align: middle;\n",
       "    }\n",
       "\n",
       "    .dataframe tbody tr th {\n",
       "        vertical-align: top;\n",
       "    }\n",
       "\n",
       "    .dataframe thead th {\n",
       "        text-align: right;\n",
       "    }\n",
       "</style>\n",
       "<table border=\"1\" class=\"dataframe\">\n",
       "  <thead>\n",
       "    <tr style=\"text-align: right;\">\n",
       "      <th></th>\n",
       "      <th>ID</th>\n",
       "      <th>Title_English</th>\n",
       "      <th>tags</th>\n",
       "    </tr>\n",
       "  </thead>\n",
       "  <tbody>\n",
       "    <tr>\n",
       "      <th>0</th>\n",
       "      <td>16498</td>\n",
       "      <td>Attack on Titan</td>\n",
       "      <td>action, drama, fantasy, mystery 2013.084.0</td>\n",
       "    </tr>\n",
       "  </tbody>\n",
       "</table>\n",
       "</div>"
      ],
      "text/plain": [
       "      ID    Title_English                                        tags\n",
       "0  16498  Attack on Titan  action, drama, fantasy, mystery 2013.084.0"
      ]
     },
     "execution_count": 9,
     "metadata": {},
     "output_type": "execute_result"
    }
   ],
   "source": [
    "animereco.head(1)"
   ]
  },
  {
   "cell_type": "code",
   "execution_count": 10,
   "id": "60ff3078-097b-4207-b447-2b28c1ee0659",
   "metadata": {},
   "outputs": [],
   "source": [
    "from sklearn.feature_extraction.text import CountVectorizer\n",
    "\n",
    "cv = CountVectorizer(max_features=5000, stop_words='english')"
   ]
  },
  {
   "cell_type": "code",
   "execution_count": 11,
   "id": "1a481033-41f9-4402-826b-5ed7ad32408b",
   "metadata": {},
   "outputs": [],
   "source": [
    "anime = anime.dropna(subset=['tags'])\n",
    "vectors = cv.fit_transform(anime['tags'])"
   ]
  },
  {
   "cell_type": "code",
   "execution_count": 12,
   "id": "99aab9b1-7960-481f-9887-2305c73af122",
   "metadata": {},
   "outputs": [],
   "source": [
    "from sklearn.metrics.pairwise import cosine_similarity"
   ]
  },
  {
   "cell_type": "code",
   "execution_count": null,
   "id": "90c630ae-a363-41bd-bd30-3c57c43d3600",
   "metadata": {},
   "outputs": [],
   "source": [
    "similarity = cosine_similarity(vectors)"
   ]
  },
  {
   "cell_type": "code",
   "execution_count": null,
   "id": "e3c2914b-f4e9-47cc-84d6-5aabe539abb9",
   "metadata": {},
   "outputs": [],
   "source": [
    "sorted(list(enumerate(similarity[0])), reverse=True, key=lambda x:x[1])[1:11]"
   ]
  },
  {
   "cell_type": "code",
   "execution_count": null,
   "id": "1d7b1ff6-55cc-4b98-992c-3e5f068e90c0",
   "metadata": {},
   "outputs": [],
   "source": [
    "def recommend(animer):\n",
    "    animeindex = animereco[animereco['Title_English'] == animer].index[0]\n",
    "    distances = similarity[animeindex]\n",
    "    animelist = sorted(list(enumerate(similarity[animeindex])), reverse=True, key=lambda x:x[1])[1:21]\n",
    "    \n",
    "\n",
    "    for i in animelist:\n",
    "        print(animereco.iloc[i[0]]['Title_English'])"
   ]
  },
  {
   "cell_type": "code",
   "execution_count": null,
   "id": "46ac02c4-7aa4-49d8-8663-7d38b4e2db93",
   "metadata": {},
   "outputs": [],
   "source": [
    "recommend('Death Note')"
   ]
  },
  {
   "cell_type": "code",
   "execution_count": null,
   "id": "ee639158-4e83-4326-ae93-65eb7684cf80",
   "metadata": {},
   "outputs": [],
   "source": [
    "import pickle\n",
    "pickle.dump(anime.to_dict(),open('anime.pkl','wb'))\n",
    "pickle.dump(similarity,open('similarity.pkl','wb'))"
   ]
  }
 ],
 "metadata": {
  "kernelspec": {
   "display_name": "Python 3 (ipykernel)",
   "language": "python",
   "name": "python3"
  },
  "language_info": {
   "codemirror_mode": {
    "name": "ipython",
    "version": 3
   },
   "file_extension": ".py",
   "mimetype": "text/x-python",
   "name": "python",
   "nbconvert_exporter": "python",
   "pygments_lexer": "ipython3",
   "version": "3.13.7"
  }
 },
 "nbformat": 4,
 "nbformat_minor": 5
}
